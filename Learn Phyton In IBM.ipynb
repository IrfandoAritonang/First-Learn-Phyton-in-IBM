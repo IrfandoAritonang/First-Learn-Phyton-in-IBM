{
    "cells": [
        {
            "cell_type": "markdown",
            "metadata": {},
            "source": "# My First Code in Phyton"
        },
        {
            "cell_type": "code",
            "execution_count": 1,
            "metadata": {},
            "outputs": [
                {
                    "name": "stdout",
                    "output_type": "stream",
                    "text": "I'm - O K A Y\n"
                }
            ],
            "source": "print (\"I'm - O K A Y\")"
        },
        {
            "cell_type": "code",
            "execution_count": 2,
            "metadata": {},
            "outputs": [],
            "source": "# Import module time untuk mengatur kecepatan animasi\nimport time"
        },
        {
            "cell_type": "code",
            "execution_count": 3,
            "metadata": {},
            "outputs": [],
            "source": "# Definisikan fungsi untuk menggambar pohon\ndef draw_tree(height):\n    # Loop melalui setiap baris pada pohon\n    for i in range(height):\n        # Cetak spasi untuk membuat indentasi pada setiap baris\n        print(\" \"*(height-i-1), end=\"\")\n        # Cetak karakter \"*\" untuk membuat tampilan daun pohon\n        print(\"*\"*(2*i+1))\n    \n    # Cetak bagian bawah dari pohon\n    print(\" \"*(height-1), end=\"\")\n    print(\"|\")"
        },
        {
            "cell_type": "code",
            "execution_count": 5,
            "metadata": {},
            "outputs": [
                {
                    "name": "stdout",
                    "output_type": "stream",
                    "text": "          *\n         ***\n        *****\n       *******\n      *********\n     ***********\n    *************\n   ***************\n  *****************\n *******************\n*********************\n          |\n          *\n"
                }
            ],
            "source": "# Definisikan fungsi untuk menggambar bintang di atas pohon\ndef draw_star(height):\n    # Cetak spasi untuk membuat indentasi pada bintang\n    print(\" \"*(height-1), end=\"\")\n    # Cetak karakter bintang\n    print(\"*\")\n    \n# Tetapkan ketinggian pohon\nheight = 11\n\n# Gambar pohon dengan ketinggian yang\ndraw_tree(height)\n\n# Tambahkan delay waktu untuk memberikan kesan animasi\ntime.sleep(1)\n\n# Gambar bintang di atas pohon\ndraw_star(height)"
        },
        {
            "cell_type": "code",
            "execution_count": null,
            "metadata": {},
            "outputs": [],
            "source": ""
        }
    ],
    "metadata": {
        "kernelspec": {
            "display_name": "Python 3.10",
            "language": "python",
            "name": "python3"
        },
        "language_info": {
            "codemirror_mode": {
                "name": "ipython",
                "version": 3
            },
            "file_extension": ".py",
            "mimetype": "text/x-python",
            "name": "python",
            "nbconvert_exporter": "python",
            "pygments_lexer": "ipython3",
            "version": "3.10.9"
        }
    },
    "nbformat": 4,
    "nbformat_minor": 1
}