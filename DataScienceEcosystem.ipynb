{
    "cells": [
        {
            "cell_type": "markdown",
            "metadata": {},
            "source": "# Data Science Tools and Ecosystem"
        },
        {
            "cell_type": "markdown",
            "metadata": {},
            "source": "In this notebook, Data Science Tools and Ecosystem are summarized."
        },
        {
            "cell_type": "markdown",
            "metadata": {},
            "source": "**Objectives:**\n+ Phyton\n+ R\n+ Julia\n+ SQL"
        },
        {
            "cell_type": "markdown",
            "metadata": {},
            "source": "#### Some of the popular languages that Data Scientists use are:\n1. Python  : a high-level programming language that is easy to read and write, has many data science libraries such as NumPy, pandas, scikit-learn, matplotlib and others.\n2. R       : programming language and software environment for statistical computing and graphics, includes many data science packages such as tidyverse, ggplot2, caret, and others.\n3. Julia   : a high-level programming language designed for numerical computing and data science, having features such as multiple dispatch, metaprogramming, and parallelism.\n4. SQL     : the standard programming language for managing data in relational database management systems (RDBMS), useful for querying and manipulating data."
        },
        {
            "cell_type": "markdown",
            "metadata": {},
            "source": "#### Some of the commonly used libraries used by Data Scientists include:\n1. NumPy   : a Python library for scientific computing that provides multidimensional array objects and related mathematical functions.\n2. Pandas  : a Python library for data analysis and manipulation that provides data structures such as Series and DataFrame as well as various operations such as groupby, merge, pivot and more.\n3. Scikit-learn : a Python library for machine learning that provides classification, regression, clustering, dimension reduction, feature selection, and more algorithms.\n4. Matplotlib   : Python library for data visualization which provides different types of plots like bar chart, pie."
        },
        {
            "cell_type": "markdown",
            "metadata": {},
            "source": "| Data Science Tools |\n| --- |\n|Jupyter Notebook|\n| Google Colab |\n| GitHub |"
        },
        {
            "cell_type": "markdown",
            "metadata": {},
            "source": "### Below are a few examples of evaluating arithmetic expressions in Python\n"
        },
        {
            "cell_type": "code",
            "execution_count": 11,
            "metadata": {
                "scrolled": false
            },
            "outputs": [
                {
                    "data": {
                        "text/plain": "17"
                    },
                    "execution_count": 11,
                    "metadata": {},
                    "output_type": "execute_result"
                }
            ],
            "source": "# This a simple arithmetic expression to mutiply then add integers\n(3*4)+5"
        },
        {
            "cell_type": "code",
            "execution_count": 13,
            "metadata": {},
            "outputs": [
                {
                    "name": "stdout",
                    "output_type": "stream",
                    "text": "3.3333333333333335\n"
                }
            ],
            "source": "# This will convert 200 minutes to hours by dividing by 60.\nminutes = 200\nhours = minutes / 60\nprint(hours)"
        },
        {
            "cell_type": "markdown",
            "metadata": {},
            "source": "## Author\nIrfando"
        }
    ],
    "metadata": {
        "kernelspec": {
            "display_name": "Python 3.10",
            "language": "python",
            "name": "python3"
        },
        "language_info": {
            "codemirror_mode": {
                "name": "ipython",
                "version": 3
            },
            "file_extension": ".py",
            "mimetype": "text/x-python",
            "name": "python",
            "nbconvert_exporter": "python",
            "pygments_lexer": "ipython3",
            "version": "3.10.9"
        }
    },
    "nbformat": 4,
    "nbformat_minor": 1
}