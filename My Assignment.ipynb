{
    "cells": [
        {
            "cell_type": "markdown",
            "metadata": {
                "collapsed": true
            },
            "source": "# \"My Jupyter Notebook on IBM Watson Studio\""
        },
        {
            "cell_type": "markdown",
            "metadata": {},
            "source": "**Irfando** :\nCurrently I am a student I want to become a data scientist"
        },
        {
            "cell_type": "markdown",
            "metadata": {},
            "source": "*I am a student majoring in Information Systems at Mikroskil University and I want to learn about data science because it suits my educational background. Apart from that this course will be very useful for me, because I will get a lot of experience about data science. I have to complete this data science course because data science skills are needed and these skills can improve my job prospects after graduating from my university. This course can also help me get something new and give me an edge over my competitors. The certificate will prove valid for me to accept in this course*"
        },
        {
            "cell_type": "markdown",
            "metadata": {},
            "source": "### Cell 5 i.e. 1 + 1 is supposed to perform addition operation between two numbers 1 and produce value 2. This is an example of basic arithmetic operations which can be performed in jupyter notebook by using operator +"
        },
        {
            "cell_type": "code",
            "execution_count": 3,
            "metadata": {},
            "outputs": [
                {
                    "data": {
                        "text/plain": "2"
                    },
                    "execution_count": 3,
                    "metadata": {},
                    "output_type": "execute_result"
                }
            ],
            "source": "1 + 1"
        },
        {
            "cell_type": "markdown",
            "metadata": {},
            "source": "#### Horizontal Rule\n\nThree or more...\n\n---\n\nHyphens\n\n***\n\nAsterisks\n\n___\n\nUnderscores\n\n#### Numbered  List\n\n1. Actual numbers don't matter, just that it's a number\n2. Ordered sub-list\n4. And another item.\n\n#### Links\n\n[I'm an inline-style link](https://www.google.com)\n\n[I'm an inline-style link with title](https://www.google.com \"Google's Homepage\")\n\n#### Table\n\nColons can be used to align columns.\n\n| Tables        | Are           | Cool  |\n| ------------- |:-------------:| -----:|\n| col 3 is      | right-aligned | $1600 |\n| col 2 is      | centered      |   $12 |\n| zebra stripes | are neat      |    $1 |\n\nThere must be at least 3 dashes separating each header cell.\nThe outer pipes (|) are optional, and you don't need to make the \nraw Markdown line up prettily. You can also use inline Markdown.\n\nMarkdown | Less | Pretty\n--- | --- | ---\n*Still* | `renders` | **nicely**\n1 | 2 | 3"
        }
    ],
    "metadata": {
        "kernelspec": {
            "display_name": "Python 3.10",
            "language": "python",
            "name": "python3"
        },
        "language_info": {
            "codemirror_mode": {
                "name": "ipython",
                "version": 3
            },
            "file_extension": ".py",
            "mimetype": "text/x-python",
            "name": "python",
            "nbconvert_exporter": "python",
            "pygments_lexer": "ipython3",
            "version": "3.10.9"
        }
    },
    "nbformat": 4,
    "nbformat_minor": 1
}